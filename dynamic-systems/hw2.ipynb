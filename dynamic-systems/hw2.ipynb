{
 "cells": [
  {
   "cell_type": "code",
   "execution_count": null,
   "metadata": {},
   "outputs": [],
   "source": []
  },
  {
   "cell_type": "code",
   "execution_count": 60,
   "metadata": {},
   "outputs": [
    {
     "name": "stderr",
     "output_type": "stream",
     "text": [
      "/home/nimac/.pyenv/versions/3.7.5/envs/nimac/lib/python3.7/site-packages/ipykernel_launcher.py:64: DeprecationWarning: object of type <class 'float'> cannot be safely interpreted as an integer.\n"
     ]
    },
    {
     "ename": "ValueError",
     "evalue": "all the input array dimensions except for the concatenation axis must match exactly",
     "output_type": "error",
     "traceback": [
      "\u001b[0;31m---------------------------------------------------------------------------\u001b[0m",
      "\u001b[0;31mValueError\u001b[0m                                Traceback (most recent call last)",
      "\u001b[0;32m<ipython-input-60-ff4044c162d7>\u001b[0m in \u001b[0;36m<module>\u001b[0;34m\u001b[0m\n\u001b[1;32m     66\u001b[0m         \u001b[0manss\u001b[0m\u001b[0;34m.\u001b[0m\u001b[0mappend\u001b[0m\u001b[0;34m(\u001b[0m\u001b[0msolve_ivp\u001b[0m\u001b[0;34m(\u001b[0m\u001b[0mf\u001b[0m\u001b[0;34m,\u001b[0m \u001b[0;34m[\u001b[0m\u001b[0;34m-\u001b[0m\u001b[0;36m100\u001b[0m\u001b[0;34m,\u001b[0m \u001b[0;36m100\u001b[0m\u001b[0;34m]\u001b[0m\u001b[0;34m,\u001b[0m \u001b[0ms0\u001b[0m\u001b[0;34m)\u001b[0m\u001b[0;34m.\u001b[0m\u001b[0my\u001b[0m\u001b[0;34m)\u001b[0m\u001b[0;34m\u001b[0m\u001b[0;34m\u001b[0m\u001b[0m\n\u001b[1;32m     67\u001b[0m \u001b[0;34m\u001b[0m\u001b[0m\n\u001b[0;32m---> 68\u001b[0;31m \u001b[0mans\u001b[0m \u001b[0;34m=\u001b[0m \u001b[0mnp\u001b[0m\u001b[0;34m.\u001b[0m\u001b[0mconcatenate\u001b[0m\u001b[0;34m(\u001b[0m\u001b[0manss\u001b[0m\u001b[0;34m,\u001b[0m \u001b[0maxis\u001b[0m\u001b[0;34m=\u001b[0m\u001b[0;36m0\u001b[0m\u001b[0;34m)\u001b[0m\u001b[0;34m\u001b[0m\u001b[0;34m\u001b[0m\u001b[0m\n\u001b[0m\u001b[1;32m     69\u001b[0m \u001b[0mplt\u001b[0m\u001b[0;34m.\u001b[0m\u001b[0mfigure\u001b[0m\u001b[0;34m(\u001b[0m\u001b[0mfigsize\u001b[0m\u001b[0;34m=\u001b[0m\u001b[0;34m(\u001b[0m\u001b[0;36m20\u001b[0m\u001b[0;34m,\u001b[0m \u001b[0;36m10\u001b[0m\u001b[0;34m)\u001b[0m\u001b[0;34m)\u001b[0m\u001b[0;34m\u001b[0m\u001b[0;34m\u001b[0m\u001b[0m\n\u001b[1;32m     70\u001b[0m \u001b[0msns\u001b[0m\u001b[0;34m.\u001b[0m\u001b[0mscatterplot\u001b[0m\u001b[0;34m(\u001b[0m\u001b[0mx\u001b[0m\u001b[0;34m=\u001b[0m\u001b[0mans\u001b[0m\u001b[0;34m[\u001b[0m\u001b[0;34m:\u001b[0m\u001b[0;34m,\u001b[0m \u001b[0;36m0\u001b[0m\u001b[0;34m]\u001b[0m\u001b[0;34m,\u001b[0m \u001b[0my\u001b[0m\u001b[0;34m=\u001b[0m\u001b[0mans\u001b[0m\u001b[0;34m[\u001b[0m\u001b[0;34m:\u001b[0m\u001b[0;34m,\u001b[0m \u001b[0;36m1\u001b[0m\u001b[0;34m]\u001b[0m\u001b[0;34m)\u001b[0m\u001b[0;34m\u001b[0m\u001b[0;34m\u001b[0m\u001b[0m\n",
      "\u001b[0;31mValueError\u001b[0m: all the input array dimensions except for the concatenation axis must match exactly"
     ]
    }
   ],
   "source": [
    "from tqdm import *\n",
    "import numpy as np\n",
    "import matplotlib.pyplot as plt\n",
    "import seaborn as sns\n",
    "from scipy.integrate import solve_ivp\n",
    "\n",
    "\n",
    "\n",
    "# 6.9.1, \n",
    "# 6.1.8 - 6.1.11 + 6.3.1 - 6.3.7\n",
    "\n",
    "def yp(x, y):\n",
    "    return y*y-x*x\n",
    "def xp(x, y):\n",
    "    return 2*x*y\n",
    "\n",
    "\n",
    "\n",
    "\n",
    "# x = 1\n",
    "# y = 3\n",
    "# points = []\n",
    "\n",
    "\n",
    "# def plot(y, yp, x, xp):\n",
    "#     for i in trange(100000):\n",
    "#         points.append([x, y])\n",
    "#         mag = min(abs(yp(x, y)), abs(xp(x, y)))\n",
    "#         t = np.log10((x/mag))/1000\n",
    "#         if i < 1:\n",
    "#             print(t)\n",
    "#         y1 = y + yp(x, y) * t\n",
    "#         x1 = x + xp(x, y) * t\n",
    "#         x = x1\n",
    "#         y = y1\n",
    "#     #     print(t, mag)\n",
    "#     #     t *= 0.9999\n",
    "#     #     print(x, y)\n",
    "#     return points\n",
    "\n",
    "# points = plot(y, yp, x, xp)\n",
    "# points = np.array(points)\n",
    "# plt.figure(figsize=(20, 10))\n",
    "# sns.scatterplot(x=points[:, 0], y=points[:, 1])\n",
    "\n",
    "\n",
    "\n",
    "\n",
    "\n",
    "\n",
    "\n",
    "\n",
    "def f(t, s):\n",
    "    x, y = s\n",
    "    return [xp(x,y), yp(x,y)]\n",
    "\n",
    "anss = []\n",
    "res = 0.05\n",
    "start, end = -100, 100\n",
    "ival = [-0.01, -0.001, -0.0001, 0.0001, 0.001, 0.01]\n",
    "ival = [1/(10*i) for i in range(-5, 5) if i not in [1, -1, 0]]\n",
    "for x in ival:\n",
    "    for y in ival:\n",
    "        t = np.linspace(start, end, (end-start)/res)\n",
    "        s0=[x, y]\n",
    "        anss.append(solve_ivp(f, t, s0).y)\n",
    "\n",
    "ans = np.concatenate(anss, axis=0)\n",
    "plt.figure(figsize=(20, 10))\n",
    "sns.scatterplot(x=ans[:, 0], y=ans[:, 1])\n",
    "\n",
    "# plt.plot(t,s[:,0],'r--', linewidth=2.0)\n",
    "# plt.plot(t,s[:,1],'b-', linewidth=2.0)\n",
    "# plt.xlabel(\"t\")\n",
    "# plt.ylabel(\"S[N,C]\")\n",
    "# plt.legend([\"N\",\"C\"])\n",
    "# plt.show()"
   ]
  },
  {
   "cell_type": "code",
   "execution_count": null,
   "metadata": {},
   "outputs": [],
   "source": [
    "plt.quiver"
   ]
  },
  {
   "cell_type": "code",
   "execution_count": 67,
   "metadata": {},
   "outputs": [
    {
     "data": {
      "text/plain": [
       "(2, 16)"
      ]
     },
     "execution_count": 67,
     "metadata": {},
     "output_type": "execute_result"
    }
   ],
   "source": [
    "anss[11].shape"
   ]
  },
  {
   "cell_type": "code",
   "execution_count": null,
   "metadata": {},
   "outputs": [],
   "source": []
  }
 ],
 "metadata": {
  "kernelspec": {
   "display_name": "Python 3",
   "language": "python",
   "name": "python3"
  },
  "language_info": {
   "codemirror_mode": {
    "name": "ipython",
    "version": 3
   },
   "file_extension": ".py",
   "mimetype": "text/x-python",
   "name": "python",
   "nbconvert_exporter": "python",
   "pygments_lexer": "ipython3",
   "version": "3.7.5"
  }
 },
 "nbformat": 4,
 "nbformat_minor": 4
}
