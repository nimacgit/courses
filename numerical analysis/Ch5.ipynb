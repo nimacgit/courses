{
 "cells": [
  {
   "cell_type": "code",
   "execution_count": 4,
   "metadata": {},
   "outputs": [
    {
     "name": "stdout",
     "output_type": "stream",
     "text": [
      "([0.5, 0.8, 1.1520000000000001, 1.5504000000000002, 1.9884800000000002], [0, 0.2, 0.4, 0.6000000000000001, 0.8])\n",
      "([0.5, 0.8306266666666666, 1.219704744, 1.6624633743216, 2.1530754320630687], [0, 0.2, 0.4, 0.6000000000000001, 0.8])\n"
     ]
    }
   ],
   "source": [
    "def euler(f, t0, y0, h, n):\n",
    "    ws = [y0]\n",
    "    ts = [t0]\n",
    "    for i in range(n):\n",
    "        ws.append(ws[-1] + h*f(ts[-1], ws[-1]))\n",
    "        ts.append(ts[-1]+h)\n",
    "    return ws, ts\n",
    "\n",
    "def rungekutta(f, t0, y0, h, n):\n",
    "    ws = [y0]\n",
    "    ts = [t0]\n",
    "    for i in range(n):\n",
    "        k1 = h*f(ts[-1], ws[-1])\n",
    "        k2 = h*f(ts[-1]+h/2, ws[-1]+k1/2)\n",
    "        k3 = h*f(ts[-1]+h/2, ws[-1]+k2/2)\n",
    "        k4 = h*f(ts[-1], ws[-1]+k3)\n",
    "        ws.append(ws[-1] + (k1+2*k2+2*k3+k4)/6)\n",
    "        ts.append(ts[-1]+h)\n",
    "    return ws, ts\n",
    "\n",
    "\n",
    "def f(t, y):\n",
    "    return y - t**2 + 1\n",
    "\n",
    "print(euler(f, 0, 0.5, 0.2, 4))\n",
    "print(rungekutta(f, 0, 0.5, 0.2, 4))"
   ]
  }
 ],
 "metadata": {
  "kernelspec": {
   "display_name": "Python 3",
   "language": "python",
   "name": "python3"
  },
  "language_info": {
   "codemirror_mode": {
    "name": "ipython",
    "version": 3
   },
   "file_extension": ".py",
   "mimetype": "text/x-python",
   "name": "python",
   "nbconvert_exporter": "python",
   "pygments_lexer": "ipython3",
   "version": "3.7.5"
  }
 },
 "nbformat": 4,
 "nbformat_minor": 4
}
