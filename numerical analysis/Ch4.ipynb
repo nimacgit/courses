{
 "cells": [
  {
   "cell_type": "markdown",
   "metadata": {},
   "source": [
    "# Derivation"
   ]
  },
  {
   "cell_type": "code",
   "execution_count": 9,
   "metadata": {},
   "outputs": [],
   "source": [
    "def L3_0(h, ys):\n",
    "    return [-3*y[0]+4*ys[1]-ys[2]]/(2*h)\n",
    "\n",
    "def L3_1(xs, ys):\n",
    "    return [-1*y[0]+ys[2]]/(2*h)\n",
    "\n",
    "def L3_2(h, ys):\n",
    "    return [y[0]-4*ys[1]+3*ys[2]]/(2*h)\n"
   ]
  },
  {
   "cell_type": "code",
   "execution_count": null,
   "metadata": {},
   "outputs": [],
   "source": []
  },
  {
   "cell_type": "code",
   "execution_count": null,
   "metadata": {},
   "outputs": [],
   "source": []
  },
  {
   "cell_type": "markdown",
   "metadata": {},
   "source": [
    "# Integral"
   ]
  },
  {
   "cell_type": "code",
   "execution_count": 7,
   "metadata": {},
   "outputs": [],
   "source": [
    "def trapezoidal(h, ys):\n",
    "    return h*(2*sum(ys) - ys[0] - ys[-1])/2\n",
    "def simpson(h, ys):\n",
    "    sums = 4*sum(ys[1::2]) + 2*sum(ys[2:-1:2]) + y[0] + y[-1]\n",
    "    return h*sums/3\n"
   ]
  },
  {
   "cell_type": "code",
   "execution_count": null,
   "metadata": {},
   "outputs": [],
   "source": []
  },
  {
   "cell_type": "code",
   "execution_count": null,
   "metadata": {},
   "outputs": [],
   "source": []
  },
  {
   "cell_type": "code",
   "execution_count": 29,
   "metadata": {},
   "outputs": [
    {
     "data": {
      "text/plain": [
       "[[0.17524, 0.17076, 0.16967], [0.16927, 0.16931], [0.16931]]"
      ]
     },
     "execution_count": 29,
     "metadata": {},
     "output_type": "execute_result"
    }
   ],
   "source": [
    "import numpy as np\n",
    "import scipy as sp\n",
    "import math\n",
    "\n",
    "fours = [1]\n",
    "for i in range(10):\n",
    "    fours.append(fours[-1]*4)\n",
    "\n",
    "def f(x):\n",
    "    return np.log(1+math.sqrt(x))/((x**2)*math.sin(x))\n",
    "\n",
    "def y(f, x0, h):\n",
    "    return (f(x0+h)-f(x0-h))/(2*h)\n",
    "\n",
    "def richardson_step(Y0, Y1, i):\n",
    "    a = (fours[i])*Y1 - Y0\n",
    "    b = fours[i]-1\n",
    "    return round(a/b, 5)\n",
    "\n",
    "def richardson(ys, n):\n",
    "    Y = []\n",
    "    for i in range(n):\n",
    "        ans = []\n",
    "        for j in range(n-i):\n",
    "            if i == 0:\n",
    "                ans.append(ys[j])\n",
    "            else:\n",
    "                ans.append(richardson_step(Y[i-1][j], Y[i-1][j+1], i))\n",
    "        Y.append(ans)\n",
    "    return Y\n",
    "\n",
    "n = 3\n",
    "x0 = 2.5\n",
    "h = 0.1\n",
    "ys = [round(y(f, x0, h/(2**i)), 5) for i in range(n)]\n",
    "richardson(ys, n)"
   ]
  },
  {
   "cell_type": "code",
   "execution_count": null,
   "metadata": {},
   "outputs": [],
   "source": []
  },
  {
   "cell_type": "code",
   "execution_count": null,
   "metadata": {},
   "outputs": [],
   "source": []
  }
 ],
 "metadata": {
  "kernelspec": {
   "display_name": "Python 3",
   "language": "python",
   "name": "python3"
  },
  "language_info": {
   "codemirror_mode": {
    "name": "ipython",
    "version": 3
   },
   "file_extension": ".py",
   "mimetype": "text/x-python",
   "name": "python",
   "nbconvert_exporter": "python",
   "pygments_lexer": "ipython3",
   "version": "3.7.5"
  }
 },
 "nbformat": 4,
 "nbformat_minor": 4
}
