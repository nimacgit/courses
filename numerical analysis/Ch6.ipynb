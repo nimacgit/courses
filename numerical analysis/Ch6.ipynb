{
 "cells": [
  {
   "cell_type": "code",
   "execution_count": 62,
   "metadata": {},
   "outputs": [
    {
     "data": {
      "text/plain": [
       "(array([[  1.,   1.,   0.,   3.,   4.],\n",
       "        [  0.,  -1.,  -1.,  -5.,  -7.],\n",
       "        [  0.,   0.,   3.,  13.,  13.],\n",
       "        [  0.,   0.,   0., -13., -13.]]),\n",
       " [-1.0, 2.0, 0.0, 1.0],\n",
       " [[1, 2.0, 3.0, -1.0], [0, 1, 4.0, -3.0], [0, 0, 1, 0.0], [0, 0, 0, 1]])"
      ]
     },
     "execution_count": 62,
     "metadata": {},
     "output_type": "execute_result"
    }
   ],
   "source": [
    "import numpy as np\n",
    "import scipy as sp\n",
    "import math\n",
    "\n",
    "m = np.array([\n",
    "    [1, 1, 0, 3, 4],\n",
    "    [2, 1, -1, 1, 1],\n",
    "    [3, -1, -1, 2, -3],\n",
    "    [-1, 2, 3, -1, 4]\n",
    "],dtype=np.float)\n",
    "\n",
    "def make_uptri(m, mode=\"normal\"):\n",
    "    # normal, partial, scaledpartial\n",
    "    coeffs = []\n",
    "    for i in range(m.shape[0]):\n",
    "        coeff = [0] * i + [1]\n",
    "        if mode == \"normal\":\n",
    "            j = i\n",
    "            while m[i][i] == 0 and j < m.shape[0]:\n",
    "                if m[j][i] != 0:\n",
    "                    a = m[i, :].copy()\n",
    "                    m[i, :] = m[j, :]\n",
    "                    m[j, :] = a\n",
    "                j += 1\n",
    "        elif mode == \"partial\":\n",
    "            max_ind = i\n",
    "            j = i\n",
    "            while j < m.shape[0]:\n",
    "                if m[j][i] > m[max_ind][i]:\n",
    "                    max_ind = j\n",
    "                j += 1\n",
    "            a = m[max_ind, :].copy()\n",
    "            m[max_ind, :] = m[i, :]\n",
    "            m[i, :] = a\n",
    "        elif mode == \"scaledpartial\":\n",
    "            max_ind = i\n",
    "            j = i\n",
    "            while j < m.shape[0]:\n",
    "                if m[j][i]/max(m[j, :]) > m[max_ind][i]/max(m[max_ind, :]):\n",
    "                    max_ind = j\n",
    "                j += 1\n",
    "            a = m[max_ind, :].copy()\n",
    "            m[max_ind, :] = m[i, :]\n",
    "            m[i, :] = a\n",
    "            \n",
    "        for j in range(i+1, m.shape[0]):\n",
    "            coeff.append(m[j][i]/m[i][i])\n",
    "            m[j, :] = m[j, :] - (m[j][i]/m[i][i])*m[i, :]\n",
    "        coeffs.append(coeff.copy())\n",
    "    return m, coeffs\n",
    "\n",
    "def gauss_elim(m, mode=\"normal\"):\n",
    "    m, coeffs = make_uptri(m, mode)\n",
    "    x = [0] * m.shape[0]\n",
    "    x[-1] = m[-1, -1]/m[-1,-2]\n",
    "    for i in range(m.shape[0] - 2, -1, -1):\n",
    "        x[i] = (m[i, m.shape[1]-1] - sum(m[i, i+1:-1] * x[i+1:]))/m[i][i]\n",
    "    return m, x, coeffs\n",
    "\n",
    "gauss_elim(m.copy(), \"normal\")\n",
    "\n"
   ]
  },
  {
   "cell_type": "code",
   "execution_count": 117,
   "metadata": {},
   "outputs": [
    {
     "name": "stdout",
     "output_type": "stream",
     "text": [
      "[ 0.99994242  2.00008477 -1.00006833  1.0001085 ]\n",
      "[ 1.  2. -1.  1.]\n"
     ]
    }
   ],
   "source": [
    "def jacobi(m, b, x0, n):\n",
    "    for i in range(m.shape[0]):\n",
    "        b[i] = b[i]/m[i, i]\n",
    "        m[i] = np.divide(m[i, :], m[i, i])\n",
    "        m[i, i] = 0\n",
    "    x = b - np.matmul(m, x0)\n",
    "    for i in range(n):\n",
    "        x = b - np.matmul(m, x)\n",
    "    return x\n",
    "\n",
    "\n",
    "def gausssidel(m, b, x0, n):\n",
    "    for i in range(m.shape[0]):\n",
    "        b[i] = b[i]/m[i, i]\n",
    "        m[i, :] = np.divide(m[i, :], m[i, i])\n",
    "        m[i, i] = 0\n",
    "    x = b - np.matmul(m, x0)\n",
    "    for i in range(n):\n",
    "        for j in range(m.shape[0]):\n",
    "            x[j] = b[j] - np.matmul(m[j, :], x)\n",
    "    return x\n",
    "\n",
    "m = np.array([\n",
    "    [10, -1, 2, 0, 6],\n",
    "    [-1, 11, -1, 3, 25],\n",
    "    [2, -1, 10, -1, -11],\n",
    "    [0, 3, -1, 8, 15]\n",
    "], dtype=np.float)\n",
    "print(jacobi(m[:,:-1].copy(), m[:,-1].copy(), np.array([0]*m.shape[0], dtype=np.float), 10))\n",
    "print(gausssidel(m[:,:-1].copy(), m[:,-1].copy(), np.array([0]*m.shape[0], dtype=np.float), 10))"
   ]
  },
  {
   "cell_type": "code",
   "execution_count": 112,
   "metadata": {},
   "outputs": [
    {
     "data": {
      "text/plain": [
       "2.272727272727273"
      ]
     },
     "execution_count": 112,
     "metadata": {},
     "output_type": "execute_result"
    }
   ],
   "source": [
    "25/11\n",
    "# a = np.array([\n",
    "#     [2, 3],\n",
    "#     [1, 4],\n",
    "#     [1, 1]\n",
    "# ])\n",
    "# b = np.array([1, 2])\n",
    "# a*b"
   ]
  }
 ],
 "metadata": {
  "kernelspec": {
   "display_name": "Python 3",
   "language": "python",
   "name": "python3"
  },
  "language_info": {
   "codemirror_mode": {
    "name": "ipython",
    "version": 3
   },
   "file_extension": ".py",
   "mimetype": "text/x-python",
   "name": "python",
   "nbconvert_exporter": "python",
   "pygments_lexer": "ipython3",
   "version": "3.7.5"
  }
 },
 "nbformat": 4,
 "nbformat_minor": 4
}
