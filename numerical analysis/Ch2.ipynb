{
 "cells": [
  {
   "cell_type": "code",
   "execution_count": 4,
   "metadata": {},
   "outputs": [],
   "source": [
    "import numpy as np\n",
    "def p(x):\n",
    "    if type(x) == type(complex()):\n",
    "        return x**9 + 2*(x**7) - 3*x - 2\n",
    "    else:\n",
    "        return round(x**9 + 2*(x**7) - 3*x - 2, 7)"
   ]
  },
  {
   "cell_type": "code",
   "execution_count": 5,
   "metadata": {},
   "outputs": [
    {
     "data": {
      "text/plain": [
       "(1.0742187500000002, 1.0750000000000002)"
      ]
     },
     "execution_count": 5,
     "metadata": {},
     "output_type": "execute_result"
    }
   ],
   "source": [
    "def bisection(a, b, f, n):\n",
    "    for i in range(n):\n",
    "        mid = (a+b)/2\n",
    "        a_v = f(a)\n",
    "        b_v = f(b)\n",
    "        mid_v = f(mid)\n",
    "        if mid_v*a_v < 0:\n",
    "            b = mid\n",
    "        else:\n",
    "            a = mid\n",
    "    return a,b\n",
    "bisection(1, 1.2, p, 8)"
   ]
  },
  {
   "cell_type": "code",
   "execution_count": 6,
   "metadata": {},
   "outputs": [
    {
     "data": {
      "text/plain": [
       "1.0746941879226202"
      ]
     },
     "execution_count": 6,
     "metadata": {},
     "output_type": "execute_result"
    }
   ],
   "source": [
    "def g(x):\n",
    "    return ((2+3*x)/(2*(x**2)+x**4))**(1/5)\n",
    "def fixpoint(g, x, n):\n",
    "    for i in range(n):\n",
    "        x = g(x)\n",
    "    return x\n",
    "fixpoint(g, 1.0734375, 6)"
   ]
  },
  {
   "cell_type": "code",
   "execution_count": 7,
   "metadata": {},
   "outputs": [],
   "source": [
    "def fp(x):\n",
    "    return round(9*x**8 + 14*(x**6) - 3, 7)\n",
    "\n",
    "def newton(f, fp, x, n):\n",
    "    for i in range(n):\n",
    "        x = x - (f(x)/fp(x))\n",
    "    return x"
   ]
  },
  {
   "cell_type": "code",
   "execution_count": 15,
   "metadata": {},
   "outputs": [
    {
     "data": {
      "text/plain": [
       "(1.997389078868471, -0.005286395388908433)"
      ]
     },
     "execution_count": 15,
     "metadata": {},
     "output_type": "execute_result"
    }
   ],
   "source": [
    "def secant(f, n, x1, x0):\n",
    "    for i in range(n):\n",
    "        res = (f(x1)*(x1 - x0))/(f(x1)-f(x0))\n",
    "        x1 = x0\n",
    "        x0 = res\n",
    "    return x1, x0\n",
    "secant(p, 3, 1, 2)"
   ]
  },
  {
   "cell_type": "code",
   "execution_count": 18,
   "metadata": {},
   "outputs": [
    {
     "data": {
      "text/plain": [
       "-0.005221860066133709"
      ]
     },
     "execution_count": 18,
     "metadata": {},
     "output_type": "execute_result"
    }
   ],
   "source": [
    "def regulafalsi(f, n, x1, x0):\n",
    "    for i in range(n):\n",
    "        res = (f(x1)*(x1 - x0))/(f(x1)-f(x0))\n",
    "        if f(x0)*f(res) < 0:\n",
    "            x1 = res\n",
    "        else:\n",
    "            x0 = res\n",
    "    return res\n",
    "regulafalsi(p, 3, 1, 2)"
   ]
  },
  {
   "cell_type": "code",
   "execution_count": 19,
   "metadata": {},
   "outputs": [
    {
     "name": "stdout",
     "output_type": "stream",
     "text": [
      "1.0747015342597421 0\n",
      "1.0747014500853476 1\n",
      "1.0747014350269986 2\n"
     ]
    }
   ],
   "source": [
    "init = 1.0734375\n",
    "def aitken(g, n):\n",
    "    xi2 = fixpoint(g,init,n+2)\n",
    "    xi1 = fixpoint(g,init,n+1)\n",
    "    xi = fixpoint(g,init,n)\n",
    "    x = xi - ((xi1-xi)**2)/(xi2-2*xi1+xi)\n",
    "    return x\n",
    "\n",
    "print(aitken(g, 0), 0)\n",
    "print(aitken(g, 1), 1)\n",
    "print(aitken(g, 2), 2)"
   ]
  },
  {
   "cell_type": "code",
   "execution_count": 23,
   "metadata": {},
   "outputs": [
    {
     "name": "stdout",
     "output_type": "stream",
     "text": [
      "1.0747015342597421\n",
      "1.0747014317451882\n",
      "1.0747014317451875\n"
     ]
    }
   ],
   "source": [
    "def stefensen(g, init, n):\n",
    "    for i in range(n):\n",
    "        x1 = g(init)\n",
    "        x2 = g(x1)\n",
    "        x3 = init - ((x1-init)**2)/(x2-2*x1+init)\n",
    "        init = x3\n",
    "    return x3\n",
    "\n",
    "print(stefensen(g, init, 1))\n",
    "print(stefensen(g, init, 2))\n",
    "print(stefensen(g, init, 3))"
   ]
  },
  {
   "cell_type": "code",
   "execution_count": 26,
   "metadata": {},
   "outputs": [
    {
     "name": "stdout",
     "output_type": "stream",
     "text": [
      "-\n",
      "2.7221352485507393\n"
     ]
    }
   ],
   "source": [
    "def moler(x0, x1, x2, f, n):\n",
    "    for i in range(n):\n",
    "        h1 = x1-x0\n",
    "        h2 = x2-x1\n",
    "        d1=(f(x1)-f(x0))\n",
    "        d2=(f(x2)-f(x1))\n",
    "        d1 = d1/h1\n",
    "        d2 = d2/h2\n",
    "        d = (d2-d1)/(h2+h1)\n",
    "        b = d2+h2*d\n",
    "        D = (b**2-4*f(x2)*d)**0.5\n",
    "        if np.absolute(b+D) > np.absolute(b-D):\n",
    "            E = b+D\n",
    "            print(\"+\")\n",
    "        else:\n",
    "            E = b-D\n",
    "            print(\"-\")\n",
    "        h = -2*f(x2)/E\n",
    "        p = x2+h\n",
    "        x0 = x1\n",
    "        x1 = x2\n",
    "        x2 = p\n",
    "    return p\n",
    "x0 = complex(1, 1)\n",
    "x1 = complex(0, 1)\n",
    "x2 = complex(1, 0)\n",
    "x3 = moler(x0, x1, x2, p, 1)\n",
    "print(np.absolute(p(x3)))"
   ]
  },
  {
   "cell_type": "code",
   "execution_count": null,
   "metadata": {},
   "outputs": [],
   "source": []
  },
  {
   "cell_type": "code",
   "execution_count": null,
   "metadata": {},
   "outputs": [],
   "source": []
  },
  {
   "cell_type": "code",
   "execution_count": null,
   "metadata": {},
   "outputs": [],
   "source": []
  },
  {
   "cell_type": "code",
   "execution_count": null,
   "metadata": {},
   "outputs": [],
   "source": []
  }
 ],
 "metadata": {
  "kernelspec": {
   "display_name": "Python 3",
   "language": "python",
   "name": "python3"
  },
  "language_info": {
   "codemirror_mode": {
    "name": "ipython",
    "version": 3
   },
   "file_extension": ".py",
   "mimetype": "text/x-python",
   "name": "python",
   "nbconvert_exporter": "python",
   "pygments_lexer": "ipython3",
   "version": "3.7.5"
  }
 },
 "nbformat": 4,
 "nbformat_minor": 4
}
