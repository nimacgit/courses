{
 "cells": [
  {
   "cell_type": "code",
   "execution_count": 79,
   "metadata": {},
   "outputs": [],
   "source": [
    "import numpy as np\n",
    "xs = [0, 0.24, 0.55, 0.73, 1]\n",
    "def f(x):\n",
    "    return (x * np.tan(x))/(1+np.tan(x**2))\n",
    "ys = [round(f(x), 10) for x in xs]\n"
   ]
  },
  {
   "cell_type": "code",
   "execution_count": 18,
   "metadata": {},
   "outputs": [
    {
     "data": {
      "text/plain": [
       "0.0562331254"
      ]
     },
     "execution_count": 18,
     "metadata": {},
     "output_type": "execute_result"
    }
   ],
   "source": [
    "def Li(xs, ys, i):\n",
    "    ans = 1\n",
    "    for j in range(len(xs)):\n",
    "        if j != i:\n",
    "            ans *= xs[i] - xs[j]\n",
    "    return round(ans * ys[i], 10)\n",
    "Li(xs, ys, 4)"
   ]
  },
  {
   "cell_type": "code",
   "execution_count": 26,
   "metadata": {},
   "outputs": [],
   "source": [
    "def calc_nevil(Q, xs, i,j, x):\n",
    "    print(f\"(x-x_{i-j})Q_\"+\"{\"+f\"{i},{j-1}\" + \"}\" + f\" - (x- x_{i})Q_\"+\"{\"+f\"{i-1},{j-1}\" + \"}\", f\"x_{i}-x_{i-j}\")\n",
    "    if j == 1:\n",
    "        print(f\"(x-{xs[i-j]}){Q[j-1][i]} - (x-{xs[i]}){Q[j-1][i-1]}\", f\"{xs[i]}-{xs[i-j]}\")\n",
    "    else:\n",
    "        print(f\"(x-{xs[i-j]})Q_\"+\"{\"+f\"{i},{j-1}\" + \"}\" + f\"- (x-{xs[i]})Q_\"+\"{\"+f\"{i-1},{j-1}\" + \"}\", f\"{xs[i]}-{xs[i-j]}\")\n",
    "#     print(f\"({x}-{xs[i-j]}){Q[j-1][i]} - ({x}-{xs[i]}){Q[j-1][i-1]}\", f\"({xs[i]}-{xs[i-j]})\")\n",
    "    return round((((x-xs[i-j])*Q[j-1][i]) - ((x-xs[i])*Q[j-1][i-1]))/(xs[i]-xs[i-j]), 10)\n",
    "\n",
    "def partial_nevil(Q, xs, i, j, x):\n",
    "    return ((x-xs[i])*Q[i+1][j] - (x-xs[j])*Q[i][j-1])/(xs[j] - xs[i])\n",
    "\n",
    "def nevil(ys, xs, x):\n",
    "    Q = [[0]*len(xs) for _ in xs]\n",
    "    for i in range(len(xs)):\n",
    "        Q[i][i] = ys[i]\n",
    "    for i in range(1, len(xs)):\n",
    "        for j in range(len(xs) - i):\n",
    "            Q[j][j+i] = partial_nevil(Q, xs, j, j+i, x)\n",
    "    return Q\n",
    "\n",
    "xs = [1.0, 1.3, 1.6, 1.9, 2.2]\n",
    "ys = [0.7651977, 0.6200860, 0.4554022, 0.2818186, 0.1103623]\n",
    "Q = nevil(ys, xs, 1.5)"
   ]
  },
  {
   "cell_type": "code",
   "execution_count": null,
   "metadata": {},
   "outputs": [],
   "source": []
  },
  {
   "cell_type": "code",
   "execution_count": 30,
   "metadata": {},
   "outputs": [
    {
     "name": "stdout",
     "output_type": "stream",
     "text": [
      "[0.7651977, 0.620086, 0.4554022, 0.2818186, 0.1103623]\n",
      "[-0.4837056667, -0.548946, -0.578612, -0.571521]\n",
      "[-0.1087338888, -0.0494433333, 0.0118183333]\n",
      "[0.065878395, 0.0680685184]\n",
      "[0.0018251028]\n"
     ]
    }
   ],
   "source": [
    "def divideddiff(xs, ys):\n",
    "    F = [ys]\n",
    "#     print(f\"{ys}\")\n",
    "    for i in range(1, len(xs)):\n",
    "        fp = []\n",
    "        for j in range(len(xs) - i):\n",
    "            a = (F[i-1][j+1] - F[i-1][j])\n",
    "            b = (xs[i+j] - xs[j])\n",
    "            ans = round(a/b, 10)\n",
    "            fp.append(ans)\n",
    "#             print(\"$F_{\" + f\"{i}, {j}\" + \"} =\" + \"\\dfrac{ F_{\" + f\"{i-1},{j+1}\" + \"} - \" + \"F_{\" + f\"{i-1}, {j}\" + \"}}{\" + f\"x_{i+j} - x_{j}\" + \"} = \" + \"\\dfrac{\" + f\"{F[i-1][j+1]} - {F[i-1][j]}\" + \"}{\" + f\"{xs[i+j]} - {xs[j]}\"+ \"} = \" + f\"{ans}$\\\\\\\\\")\n",
    "        F.append(fp)\n",
    "#     print(\"P(x) = \", end=\"\")\n",
    "#     for i in range(len(xs)):\n",
    "#         print(f\"{F[i][0]} \\\\times \", end=\"\")\n",
    "#         for j in range(i+1):\n",
    "#             print(f\"(x-{xs[j]})\", end=\"\")\n",
    "#         print(\" + \", end=\"\")\n",
    "    return F\n",
    "\n",
    "for x in divideddiff(xs, ys):\n",
    "    print(x)"
   ]
  },
  {
   "cell_type": "code",
   "execution_count": 21,
   "metadata": {},
   "outputs": [
    {
     "data": {
      "text/plain": [
       "([1.465997614174723, 2.222850257027689, 8.809769654506473, 0, 0],\n",
       " [0.0, 0.756852642852966, 5.830066754625817, 0, 0],\n",
       " [0.252284214284322, 1.6910713705909506, -1.9433555848752724, 0, 0])"
      ]
     },
     "execution_count": 21,
     "metadata": {},
     "output_type": "execute_result"
    }
   ],
   "source": [
    "import numpy as np\n",
    "import scipy as sp\n",
    "import math\n",
    "\n",
    "def cubic_spline(xs, ys):\n",
    "    n = len(xs)\n",
    "    b = [0]*(n+1)\n",
    "    c = [0]*(n+1)\n",
    "    d = [0]*(n+1)\n",
    "    h = [xs[i+1]-xs[i] for i in range(n-1)]\n",
    "    a = [0] + [3*(ys[i+1]-ys[i])/h[i] - 3*(ys[i]-ys[i-1])/h[i-1] for i in range(1, n-1)]\n",
    "    l = [0]*(n+1)\n",
    "    mu = [0]*(n+1)\n",
    "    z = [0]*(n+1)\n",
    "    l[0] = 1\n",
    "    for i in range(1, n-1):\n",
    "        l[i] = 2*(xs[i+1]-xs[i-1])-h[i-1]*mu[i-1]\n",
    "        mu[i] = h[i]/l[i]\n",
    "        z[i] = (a[i]-h[i-1]*z[i-1])/l[i]\n",
    "    l[n] = 1\n",
    "    for i in range(n-2, -1, -1):\n",
    "        c[i] = z[i] - mu[i]*c[i+1]\n",
    "        b[i] = (ys[i+1]-ys[i])/h[i] - h[i]*(c[i+1]+2*c[i])/3\n",
    "        d[i] = (c[i+1]-c[i])/(3*h[i])\n",
    "    return b, c, d\n",
    "\n",
    "\n",
    "xs = range(4)\n",
    "ys = [math.exp(i) for i in xs]\n",
    "cubic_spline(xs, ys)"
   ]
  },
  {
   "cell_type": "code",
   "execution_count": null,
   "metadata": {},
   "outputs": [],
   "source": []
  }
 ],
 "metadata": {
  "kernelspec": {
   "display_name": "Python 3",
   "language": "python",
   "name": "python3"
  },
  "language_info": {
   "codemirror_mode": {
    "name": "ipython",
    "version": 3
   },
   "file_extension": ".py",
   "mimetype": "text/x-python",
   "name": "python",
   "nbconvert_exporter": "python",
   "pygments_lexer": "ipython3",
   "version": "3.7.5"
  }
 },
 "nbformat": 4,
 "nbformat_minor": 4
}
