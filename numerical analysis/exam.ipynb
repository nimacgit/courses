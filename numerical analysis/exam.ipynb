{
 "cells": [
  {
   "cell_type": "code",
   "execution_count": 13,
   "metadata": {},
   "outputs": [],
   "source": [
    "import math\n",
    "\n",
    "def r(x):\n",
    "    t = 1.0\n",
    "    while abs(x) > 1:\n",
    "        x /= 10\n",
    "        t *= 10\n",
    "    while abs(x) < 0.1:\n",
    "        x *= 10\n",
    "        t /= 10\n",
    "    return round(x, 11)*t\n",
    "\n",
    "def f(x):\n",
    "    t = r(math.tan(x**2))\n",
    "    return r(r(r(x) + 1) - t)\n",
    "    \n",
    "def fp(x):\n",
    "    c0 = r((math.cos(r(x**2))**2))\n",
    "    print(c0)\n",
    "    c = r(2*x*r((1/c0)))\n",
    "    print(c)\n",
    "    return r(1 - c)"
   ]
  },
  {
   "cell_type": "code",
   "execution_count": 14,
   "metadata": {},
   "outputs": [
    {
     "data": {
      "text/plain": [
       "[0.4425922753, 0.2791574684, -0.193636909, -0.550324595]"
      ]
     },
     "execution_count": 14,
     "metadata": {},
     "output_type": "execute_result"
    }
   ],
   "source": [
    "a = 1\n",
    "b = 1.1\n",
    "xs = [a, a + (b-a)/4, a + 3*(b-a)/4, b]\n",
    "ys = [f(x) for x in xs]\n",
    "ys"
   ]
  },
  {
   "cell_type": "code",
   "execution_count": 29,
   "metadata": {},
   "outputs": [
    {
     "name": "stdout",
     "output_type": "stream",
     "text": [
      "1 1\n",
      "(x-x_0)Q_{1,0} - (x- x_1)Q_{0,0} x_1-x_0\n",
      "(x-1)0.2791574684 - (x-1.025)0.4425922753 1.025-1\n",
      "2 1\n",
      "(x-x_1)Q_{2,0} - (x- x_2)Q_{1,0} x_2-x_1\n",
      "(x-1.025)-0.193636909 - (x-1.0750000000000002)0.2791574684 1.0750000000000002-1.025\n",
      "3 1\n",
      "(x-x_2)Q_{3,0} - (x- x_3)Q_{2,0} x_3-x_2\n",
      "(x-1.0750000000000002)-0.550324595 - (x-1.1)-0.193636909 1.1-1.0750000000000002\n",
      "2 2\n",
      "(x-x_0)Q_{2,1} - (x- x_2)Q_{1,1} x_2-x_0\n",
      "(x-1)Q_{2,1}- (x-1.0750000000000002)Q_{1,1} 1.0750000000000002-1\n",
      "3 2\n",
      "(x-x_1)Q_{3,1} - (x- x_3)Q_{2,1} x_3-x_1\n",
      "(x-1.025)Q_{3,1}- (x-1.1)Q_{2,1} 1.1-1.025\n",
      "3 3\n",
      "(x-x_0)Q_{3,2} - (x- x_3)Q_{2,2} x_3-x_0\n",
      "(x-1)Q_{3,2}- (x-1.1)Q_{2,2} 1.1-1\n"
     ]
    }
   ],
   "source": [
    "def calc_nevil(Q, xs, i,j, x):\n",
    "    print(i, j)\n",
    "    print(f\"(x-x_{i-j})Q_\"+\"{\"+f\"{i},{j-1}\" + \"}\" + f\" - (x- x_{i})Q_\"+\"{\"+f\"{i-1},{j-1}\" + \"}\", f\"x_{i}-x_{i-j}\")\n",
    "    if j == 1:\n",
    "        print(f\"(x-{xs[i-j]}){Q[j-1][i]} - (x-{xs[i]}){Q[j-1][i-1]}\", f\"{xs[i]}-{xs[i-j]}\")\n",
    "    else:\n",
    "        print(f\"(x-{xs[i-j]})Q_\"+\"{\"+f\"{i},{j-1}\" + \"}\" + f\"- (x-{xs[i]})Q_\"+\"{\"+f\"{i-1},{j-1}\" + \"}\", f\"{xs[i]}-{xs[i-j]}\")\n",
    "#     print(f\"({x}-{xs[i-j]}){Q[j-1][i]} - ({x}-{xs[i]}){Q[j-1][i-1]}\", f\"({xs[i]}-{xs[i-j]})\")\n",
    "#     return round((((x-xs[i-j])*Q[j-1][i]) - ((x-xs[i])*Q[j-1][i-1]))/(xs[i]-xs[i-j]), 10)\n",
    "\n",
    "def partial_nevil(Q, xs, i, j, x):\n",
    "    return r((r(r(x-xs[i])*Q[i+1][j]) - r(r(x-xs[j])*Q[i][j-1]))/r(xs[j] - xs[i]))\n",
    "\n",
    "def nevil(ys, xs, x):\n",
    "    Q = [[0]*len(xs) for _ in xs]\n",
    "    for i in range(len(xs)):\n",
    "        Q[i][i] = ys[i]\n",
    "    for i in range(1, len(xs)):\n",
    "        for j in range(len(xs) - i):\n",
    "            Q[j][j+i] = partial_nevil(Q, xs, j, j+i, x)\n",
    "    return Q\n",
    "\n",
    "Q = [ys]\n",
    "Q11 = calc_nevil(Q, xs, 1, 1, 0)\n",
    "Q21 = calc_nevil(Q, xs, 2, 1, 0)\n",
    "Q31 = calc_nevil(Q, xs, 3, 1, 0)\n",
    "Q.append([Q11, Q21, Q31])\n",
    "Q22 = calc_nevil(Q, xs, 2, 2, 0)\n",
    "Q32 = calc_nevil(Q, xs, 3, 2, 0)\n",
    "Q.append([Q22, Q32])\n",
    "Q33 = calc_nevil(Q, xs, 3, 3, 0)"
   ]
  },
  {
   "cell_type": "code",
   "execution_count": 22,
   "metadata": {},
   "outputs": [
    {
     "data": {
      "text/plain": [
       "-0.17449961378249995"
      ]
     },
     "execution_count": 22,
     "metadata": {},
     "output_type": "execute_result"
    }
   ],
   "source": [
    "xs[0] * ys[1] - xs[1] * ys[0]"
   ]
  },
  {
   "cell_type": "code",
   "execution_count": null,
   "metadata": {},
   "outputs": [],
   "source": []
  },
  {
   "cell_type": "code",
   "execution_count": null,
   "metadata": {},
   "outputs": [],
   "source": []
  },
  {
   "cell_type": "code",
   "execution_count": 30,
   "metadata": {},
   "outputs": [
    {
     "name": "stdout",
     "output_type": "stream",
     "text": [
      "[0.4425922753, 0.2791574684, -0.193636909, -0.550324595]\n",
      "[-6.537392276, -9.455887548, -14.26750744]\n",
      "[-38.9132702933, -64.1549318933]\n",
      "[-252.416616]\n"
     ]
    }
   ],
   "source": [
    "def divideddiff(xs, ys):\n",
    "    F = [ys]\n",
    "#     print(f\"{ys}\")\n",
    "    for i in range(1, len(xs)):\n",
    "        fp = []\n",
    "        for j in range(len(xs) - i):\n",
    "            a = (F[i-1][j+1] - F[i-1][j])\n",
    "            b = (xs[i+j] - xs[j])\n",
    "            ans = round(a/b, 10)\n",
    "            fp.append(ans)\n",
    "#             print(\"$F_{\" + f\"{i}, {j}\" + \"} =\" + \"\\dfrac{ F_{\" + f\"{i-1},{j+1}\" + \"} - \" + \"F_{\" + f\"{i-1}, {j}\" + \"}}{\" + f\"x_{i+j} - x_{j}\" + \"} = \" + \"\\dfrac{\" + f\"{F[i-1][j+1]} - {F[i-1][j]}\" + \"}{\" + f\"{xs[i+j]} - {xs[j]}\"+ \"} = \" + f\"{ans}$\\\\\\\\\")\n",
    "        F.append(fp)\n",
    "#     print(\"P(x) = \", end=\"\")\n",
    "#     for i in range(len(xs)):\n",
    "#         print(f\"{F[i][0]} \\\\times \", end=\"\")\n",
    "#         for j in range(i+1):\n",
    "#             print(f\"(x-{xs[j]})\", end=\"\")\n",
    "#         print(\" + \", end=\"\")\n",
    "    return F\n",
    "\n",
    "for x in divideddiff(xs, ys):\n",
    "    print(x)"
   ]
  },
  {
   "cell_type": "code",
   "execution_count": null,
   "metadata": {},
   "outputs": [],
   "source": []
  },
  {
   "cell_type": "code",
   "execution_count": null,
   "metadata": {},
   "outputs": [],
   "source": []
  },
  {
   "cell_type": "code",
   "execution_count": 43,
   "metadata": {},
   "outputs": [
    {
     "name": "stdout",
     "output_type": "stream",
     "text": [
      "0.4425922753\n",
      "0.2791574684\n",
      "0.0730296383\n",
      "-0.193636909\n",
      "-0.550324595\n"
     ]
    },
    {
     "data": {
      "text/plain": [
       "0.002617100946250001"
      ]
     },
     "execution_count": 43,
     "metadata": {},
     "output_type": "execute_result"
    }
   ],
   "source": []
  },
  {
   "cell_type": "code",
   "execution_count": 50,
   "metadata": {},
   "outputs": [
    {
     "data": {
      "text/plain": [
       "[[-0.005386615984999999, 0.0009581739224999997, 0.002617100946250001],\n",
       " [0.003073103891666666, 0.003170076620833335],\n",
       " [0.003176541469444446]]"
      ]
     },
     "execution_count": 50,
     "metadata": {},
     "output_type": "execute_result"
    }
   ],
   "source": [
    "import numpy as np\n",
    "import scipy as sp\n",
    "import math\n",
    "\n",
    "fours = [1]\n",
    "for i in range(10):\n",
    "    fours.append(fours[-1]*4)\n",
    "\n",
    "def richardson_step(Y0, Y1, i):\n",
    "    a = (fours[i])*Y1 - Y0\n",
    "    b = fours[i]-1\n",
    "    return a/b\n",
    "\n",
    "def richardson(ys):\n",
    "    n = len(ys)\n",
    "    Y = []\n",
    "    for i in range(n):\n",
    "        ans = []\n",
    "        for j in range(n-i):\n",
    "            if i == 0:\n",
    "                ans.append(ys[j])\n",
    "            else:\n",
    "                ans.append(richardson_step(Y[i-1][j], Y[i-1][j+1], i))\n",
    "        Y.append(ans)\n",
    "    return Y\n",
    "\n",
    "\n",
    "def trapezoidal(h, ys):\n",
    "    return h*(2*sum(ys) - ys[0] - ys[-1])/2\n",
    "\n",
    "\n",
    "def ramburg(f, h, a, n):\n",
    "    sums = 0\n",
    "    for i in range(n + 1):\n",
    "#         print(f(a+i*h))\n",
    "        if i == 0 or i == n:\n",
    "            sums += f(a + i*h)\n",
    "        else:\n",
    "            sums += 2*f(a+i*h)\n",
    "    return h*sums/2\n",
    "h = 0.1\n",
    "h*(f(a) + f(b))/2\n",
    "Y0 = ramburg(f, h, a, 1)\n",
    "Y1 = ramburg(f, h/2, a, 2)\n",
    "Y2 = ramburg(f, h/4, a, 4)\n",
    "ys = [Y0, Y1, Y2]\n",
    "richardson(ys)"
   ]
  },
  {
   "cell_type": "code",
   "execution_count": null,
   "metadata": {},
   "outputs": [],
   "source": []
  },
  {
   "cell_type": "code",
   "execution_count": null,
   "metadata": {},
   "outputs": [],
   "source": []
  },
  {
   "cell_type": "code",
   "execution_count": 51,
   "metadata": {},
   "outputs": [
    {
     "data": {
      "text/plain": [
       "(array([[  2.        ,   0.        ,  -1.        ,   6.        ],\n",
       "        [  0.        ,  -7.        ,   4.        , -35.        ],\n",
       "        [  0.        ,   0.        ,   5.42857143,   0.        ]]),\n",
       " [3.0, 5.0, 0.0],\n",
       " [[1, 2.0, -1.0], [0, 1, 0.14285714285714285], [0, 0, 1]])"
      ]
     },
     "execution_count": 51,
     "metadata": {},
     "output_type": "execute_result"
    }
   ],
   "source": [
    "import numpy as np\n",
    "import scipy as sp\n",
    "import math\n",
    "\n",
    "m = np.array([\n",
    "    [2, 0, -1, 6],\n",
    "    [4, -7, 2, -23],\n",
    "    [-2, -1, 7, -11],\n",
    "],dtype=np.float)\n",
    "\n",
    "def make_uptri(m, mode=\"normal\"):\n",
    "    # normal, partial, scaledpartial\n",
    "    coeffs = []\n",
    "    for i in range(m.shape[0]):\n",
    "        coeff = [0] * i + [1]\n",
    "        if mode == \"normal\":\n",
    "            j = i\n",
    "            while m[i][i] == 0 and j < m.shape[0]:\n",
    "                if m[j][i] != 0:\n",
    "                    a = m[i, :].copy()\n",
    "                    m[i, :] = m[j, :]\n",
    "                    m[j, :] = a\n",
    "                j += 1\n",
    "        elif mode == \"partial\":\n",
    "            max_ind = i\n",
    "            j = i\n",
    "            while j < m.shape[0]:\n",
    "                if m[j][i] > m[max_ind][i]:\n",
    "                    max_ind = j\n",
    "                j += 1\n",
    "            a = m[max_ind, :].copy()\n",
    "            m[max_ind, :] = m[i, :]\n",
    "            m[i, :] = a\n",
    "        elif mode == \"scaledpartial\":\n",
    "            max_ind = i\n",
    "            j = i\n",
    "            while j < m.shape[0]:\n",
    "                if m[j][i]/max(m[j, :]) > m[max_ind][i]/max(m[max_ind, :]):\n",
    "                    max_ind = j\n",
    "                j += 1\n",
    "            a = m[max_ind, :].copy()\n",
    "            m[max_ind, :] = m[i, :]\n",
    "            m[i, :] = a\n",
    "            \n",
    "        for j in range(i+1, m.shape[0]):\n",
    "            coeff.append(m[j][i]/m[i][i])\n",
    "            m[j, :] = m[j, :] - (m[j][i]/m[i][i])*m[i, :]\n",
    "        coeffs.append(coeff.copy())\n",
    "    return m, coeffs\n",
    "\n",
    "def gauss_elim(m, mode=\"normal\"):\n",
    "    m, coeffs = make_uptri(m, mode)\n",
    "    x = [0] * m.shape[0]\n",
    "    x[-1] = m[-1, -1]/m[-1,-2]\n",
    "    for i in range(m.shape[0] - 2, -1, -1):\n",
    "        x[i] = (m[i, m.shape[1]-1] - sum(m[i, i+1:-1] * x[i+1:]))/m[i][i]\n",
    "    return m, x, coeffs\n",
    "\n",
    "gauss_elim(m.copy(), \"normal\")"
   ]
  },
  {
   "cell_type": "code",
   "execution_count": 55,
   "metadata": {},
   "outputs": [
    {
     "name": "stdout",
     "output_type": "stream",
     "text": [
      "[ 3.00000000e+00  5.00000000e+00 -2.22044605e-16]\n",
      "[ 3.00000000e+00  5.00000000e+00 -2.22044605e-16]\n",
      "[ 3.00000000e+00  5.00000000e+00 -2.22044605e-16]\n"
     ]
    }
   ],
   "source": [
    "def jacobi(m, b, x0, n):\n",
    "    for i in range(m.shape[0]):\n",
    "        b[i] = b[i]/m[i, i]\n",
    "        m[i] = np.divide(m[i, :], m[i, i])\n",
    "        m[i, i] = 0\n",
    "    x = b - np.matmul(m, x0)\n",
    "    for i in range(n):\n",
    "        x = b - np.matmul(m, x)\n",
    "    return x\n",
    "\n",
    "\n",
    "def gausssidel(m, b, x0, n):\n",
    "    for i in range(m.shape[0]):\n",
    "        b[i] = b[i]/m[i, i]\n",
    "        m[i, :] = np.divide(m[i, :], m[i, i])\n",
    "        m[i, i] = 0\n",
    "    x = x0\n",
    "    for i in range(n):\n",
    "        for j in range(m.shape[0]):\n",
    "            x[j] = b[j] - np.matmul(m[j, :], x)\n",
    "        print(x)\n",
    "    return x\n",
    "\n",
    "m = np.array([\n",
    "    [2, 0, -1, 6],\n",
    "    [4, -7, 2, -23],\n",
    "    [-2, -1, 7, -11],\n",
    "],dtype=np.float)\n",
    "\n",
    "# print(jacobi(m[:,:-1].copy(), m[:,-1].copy(), np.array([0]*m.shape[0], dtype=np.float), 10))\n",
    "print(gausssidel(m[:,:-1].copy(), m[:,-1].copy(), np.array([0]*m.shape[0], dtype=np.float), 2))"
   ]
  },
  {
   "cell_type": "code",
   "execution_count": null,
   "metadata": {},
   "outputs": [],
   "source": []
  }
 ],
 "metadata": {
  "kernelspec": {
   "display_name": "Python 3",
   "language": "python",
   "name": "python3"
  },
  "language_info": {
   "codemirror_mode": {
    "name": "ipython",
    "version": 3
   },
   "file_extension": ".py",
   "mimetype": "text/x-python",
   "name": "python",
   "nbconvert_exporter": "python",
   "pygments_lexer": "ipython3",
   "version": "3.7.5"
  }
 },
 "nbformat": 4,
 "nbformat_minor": 4
}
