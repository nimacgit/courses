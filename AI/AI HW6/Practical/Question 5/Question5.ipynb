{
 "cells": [
  {
   "cell_type": "markdown",
   "metadata": {},
   "source": [
    "# <font color='black'>CE-417: Artificial Intelligence</font>\n",
    "## Naive Bayes"
   ]
  },
  {
   "cell_type": "markdown",
   "metadata": {},
   "source": [
    "### Nima Behrang\n",
    "### 96100114"
   ]
  },
  {
   "cell_type": "markdown",
   "metadata": {},
   "source": [
    "In this question, you will implement a Naive Bayes model to predict the class of comments of the dataset."
   ]
  },
  {
   "cell_type": "markdown",
   "metadata": {},
   "source": [
    "## Naive Bayes model on IMDB dataset\n"
   ]
  },
  {
   "cell_type": "markdown",
   "metadata": {},
   "source": [
    "#### A.Import needed libraries\n"
   ]
  },
  {
   "cell_type": "markdown",
   "metadata": {},
   "source": [
    "Import any other libraries that you will need in your code here."
   ]
  },
  {
   "cell_type": "code",
   "execution_count": 6,
   "metadata": {},
   "outputs": [],
   "source": [
    "import numpy as np\n",
    "import glob\n",
    "import re\n",
    "\n",
    "## your code to import libraries\n",
    "\n",
    "\n"
   ]
  },
  {
   "cell_type": "markdown",
   "metadata": {},
   "source": [
    "#### B.Load dataset and create matrix of features"
   ]
  },
  {
   "cell_type": "markdown",
   "metadata": {},
   "source": [
    "Don't change this part of the code."
   ]
  },
  {
   "cell_type": "code",
   "execution_count": null,
   "metadata": {},
   "outputs": [],
   "source": [
    "\n",
    "stop_words = [\"a\",\"about\",\"above\",\"after\",\"again\",\"against\",\"all\",\"am\",\n",
    "            \"an\",\"and\",\"any\",\"are\",\"arent\",\"as\",\"at\",\"be\",\"because\",\"been\",\"before\",\n",
    "            \"being\",\"below\",\"between\",\"both\",\"but\",\"by\",\"cant\",\"cannot\",\"could\",\"couldnt\",\n",
    "            \"did\",\"didnt\",\"do\",\"does\",\"doesnt\",\"doing\",\"dont\",\"down\",\"during\",\"each\",\"few\",\n",
    "            \"for\",\"from\",\"further\",\"had\",\"hadnt\",\"has\",\"hasnt\",\"have\",\"havent\",\"having\",\"he\",\n",
    "            \"hed\",\"hell\",\"he\",\"her\",\"here\",\"here\",\"hers\",\"herself\",\"him\",\"himself\",\"his\",\n",
    "            \"how\",\"hows\",\"i\",\"id\",\"ill\",\"i\",\"ie\",\"if\",\"in\",\"into\",\"is\",\"isnt\",\"it\",\"it\",\n",
    "            \"its\",\"itself\",\"let\",\"me\",\"more\",\"most\",\"mustnt\",\"my\",\"myself\",\"no\",\"nor\",\"not\",\n",
    "            \"of\",\"off\",\"on\",\"once\",\"only\",\"or\",\"other\",\"ought\",\"our\",\"ours\",\"ourselves\",\"out\",\n",
    "            \"over\",\"own\",\"same\",\"shant\",\"she\",\"shed\",\"shell\",\"she\",\"should\",\"shouldnt\",\n",
    "            \"so\",\"some\",\"such\",\"than\",\"that\",\"that\",\"the\",\"their\",\"theirs\",\"them\",\"themselves\",\n",
    "            \"then\",\"there\",\"there\",\"these\",\"they\",\"theyd\",\"theyll\",\"theyre\",\"theye\",\"this\",\n",
    "            \"those\",\"through\",\"to\",\"too\",\"under\",\"until\",\"up\",\"very\",\"was\",\"wasnt\",\"we\",\"wed\",\n",
    "            \"well\",\"were\",\"wee\",\"were\",\"werent\",\"what\",\"what\",\"when\",\"when\",\"where\",\n",
    "            \"where\",\"which\",\"while\",\"who\",\"who\",\"whom\",\"why\",\"why\",\"with\",\"wont\",\"would\",\n",
    "            \"wouldnt\",\"you\",\"youd\",\"youll\",\"youre\",\"youve\",\"your\",\"yours\",\"yourself\",\"yourselves\",\n",
    "            \"nt\",\"d\",\"ll\",\"re\",\"ve\",\"r\",\"t\",\"nd\",\"s\",\"br\"]\n",
    "\n",
    "def get_data():\n",
    "    train_positive = glob.glob('train/positive/*')\n",
    "    train_negative = glob.glob('train/negative/*')\n",
    "    test_positive = glob.glob('test/positive/*')\n",
    "    test_negative = glob.glob('test/negative/*')\n",
    "    x_train = []\n",
    "    y_train = []\n",
    "    x_test = []\n",
    "    y_test = []\n",
    "    for file in train_positive:\n",
    "        f = open(file, 'r', encoding=\"utf8\")\n",
    "        x_train.append(f.read())\n",
    "        y_train.append(1)\n",
    "        f.close()\n",
    "    for file in train_negative:\n",
    "        f = open(file, 'r', encoding=\"utf8\")\n",
    "        x_train.append(f.read())\n",
    "        y_train.append(0)\n",
    "        f.close()\n",
    "    for file in test_positive:\n",
    "        f = open(file, 'r', encoding=\"utf8\")\n",
    "        x_test.append(f.read())\n",
    "        y_test.append(1)\n",
    "        f.close()\n",
    "    for file in test_negative:\n",
    "        f = open(file, 'r', encoding=\"utf8\")\n",
    "        x_test.append(f.read())\n",
    "        y_test.append(0)\n",
    "        f.close()\n",
    "    y_train = np.array(y_train)\n",
    "    y_test = np.array(y_test)\n",
    "    return x_train, y_train, x_test, y_test\n",
    "\n",
    "def clean_text(x_train, x_test):\n",
    "    for index, text in enumerate(x_train):\n",
    "        x_train[index] = ' '.join((re.sub(\"[^a-zA-Z\\s]\", \"\", text)).lower().split())\n",
    "    for index, text in enumerate(x_test):\n",
    "        x_test[index] = ' '.join((re.sub(\"[^a-zA-Z\\s]\", \"\", text)).lower().split())\n",
    "    return x_train, x_test\n",
    "\n",
    "\n",
    "def get_whole_words(x_train, x_test, stop_words):\n",
    "    whole_words = dict()\n",
    "    for text in x_train:\n",
    "        words = text.split()\n",
    "        for word in words:\n",
    "            if word not in stop_words:\n",
    "                if word not in whole_words.keys():\n",
    "                    whole_words[word] = len(whole_words)\n",
    "    for text in x_test:\n",
    "        words = text.split()\n",
    "        for word in words:\n",
    "            if word not in stop_words:\n",
    "                if word not in whole_words.keys():\n",
    "                    whole_words[word] = len(whole_words)\n",
    "    return whole_words\n",
    "\n",
    "\n",
    "def get_matrix_of_x(x_train, x_test, words):\n",
    "    train_matrix = np.zeros((len(x_train), len(words)), dtype='uint8')\n",
    "    test_matrix = np.zeros((len(x_test), len(words)), dtype='uint8')\n",
    "    for index, text in enumerate(x_train):\n",
    "        text_words = text.split()\n",
    "        for word in text_words:\n",
    "            if word not in stop_words:\n",
    "                train_matrix[index, words[word]] += 1\n",
    "    for index, text in enumerate(x_test):\n",
    "        text_words = text.split()\n",
    "        for word in text_words:\n",
    "            if word not in stop_words:\n",
    "                test_matrix[index, words[word]] += 1\n",
    "            \n",
    "    return train_matrix, test_matrix\n",
    "\n",
    "x_train, y_train, x_test, y_test = get_data()\n",
    "x_train, x_test = clean_text(x_train, x_test)\n",
    "words = get_whole_words(x_train, x_test, stop_words)\n",
    "train_matrix, test_matrix = get_matrix_of_x(x_train, x_test, words)\n"
   ]
  },
  {
   "cell_type": "markdown",
   "metadata": {},
   "source": [
    "#### C.Find the best smoothing value\n"
   ]
  },
  {
   "cell_type": "markdown",
   "metadata": {},
   "source": [
    "Find the best smoothing value for your dataset by using K-fold cross-validation(K=10) for 5 equidistant smoothing values in the (0,1] range."
   ]
  },
  {
   "cell_type": "code",
   "execution_count": null,
   "metadata": {},
   "outputs": [],
   "source": [
    "smooth_values = np.arange(start=0, stop=5, dtype=float)/5\n",
    "smooth_values\n",
    "# your code to find the best smoothing value\n",
    "\n",
    "\n",
    "\n",
    "\n",
    "\n",
    "\n",
    "\n",
    "\n",
    "\n",
    "\n",
    "\n",
    "\n",
    "\n",
    "\n",
    "\n",
    "\n",
    "\n",
    "\n",
    "\n",
    "\n",
    "\n"
   ]
  },
  {
   "cell_type": "markdown",
   "metadata": {},
   "source": [
    "#### D.Model Naive Bayes and predict test data labels\n"
   ]
  },
  {
   "cell_type": "markdown",
   "metadata": {},
   "source": [
    "Model Naive Bayes by using the best smoothing value that you have found in the previous part. Report the train and test accuracy."
   ]
  },
  {
   "cell_type": "code",
   "execution_count": null,
   "metadata": {},
   "outputs": [],
   "source": [
    "# your code to model naive bayes\n",
    "\n",
    "\n",
    "\n",
    "\n",
    "\n",
    "\n",
    "\n",
    "\n",
    "\n",
    "\n",
    "\n",
    "\n",
    "\n",
    "\n",
    "\n",
    "\n",
    "\n",
    "\n",
    "\n",
    "# your code to report the train and test accuracy\n",
    "\n",
    "\n",
    "\n",
    "\n",
    "\n",
    "\n",
    "\n",
    "\n",
    "\n"
   ]
  }
 ],
 "metadata": {
  "kernelspec": {
   "display_name": "Python 3",
   "language": "python",
   "name": "python3"
  },
  "language_info": {
   "codemirror_mode": {
    "name": "ipython",
    "version": 3
   },
   "file_extension": ".py",
   "mimetype": "text/x-python",
   "name": "python",
   "nbconvert_exporter": "python",
   "pygments_lexer": "ipython3",
   "version": "3.7.5"
  }
 },
 "nbformat": 4,
 "nbformat_minor": 4
}
