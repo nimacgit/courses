{
 "cells": [
  {
   "cell_type": "code",
   "execution_count": 7,
   "metadata": {},
   "outputs": [],
   "source": [
    "def impl(x, y):\n",
    "    return not(x) or y\n",
    "\n",
    "def f(a, b, c):\n",
    "    impl((impl(a, b or c)) and (impl(a, not(b) or c)), not(a) or c)\n",
    "def g(a, b, c):\n",
    "    impl(not(a) or c, (impl(a, b or c)) and (impl(a, not(b) or c)))\n",
    "for a in [True, False]:\n",
    "    for b in [True, False]:\n",
    "        for c in [True, False]:\n",
    "            if f(a, b, c) != g(a, b, c):\n",
    "                print(a, b, c)"
   ]
  },
  {
   "cell_type": "code",
   "execution_count": null,
   "metadata": {},
   "outputs": [],
   "source": []
  }
 ],
 "metadata": {
  "kernelspec": {
   "display_name": "Python 3",
   "language": "python",
   "name": "python3"
  },
  "language_info": {
   "codemirror_mode": {
    "name": "ipython",
    "version": 3
   },
   "file_extension": ".py",
   "mimetype": "text/x-python",
   "name": "python",
   "nbconvert_exporter": "python",
   "pygments_lexer": "ipython3",
   "version": "3.7.5"
  }
 },
 "nbformat": 4,
 "nbformat_minor": 4
}
